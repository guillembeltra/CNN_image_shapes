{
 "cells": [
  {
   "attachments": {},
   "cell_type": "markdown",
   "metadata": {},
   "source": [
    "## Combolutional Neural network\n",
    "Generating a Dataset of pictures with simples forms\n",
    "\n",
    "Pictures classifaer"
   ]
  },
  {
   "cell_type": "code",
   "execution_count": 27,
   "metadata": {},
   "outputs": [
    {
     "name": "stdout",
     "output_type": "stream",
     "text": [
      "Dataset created: 20000 images\n"
     ]
    },
    {
     "data": {
      "image/png": "[encoded data removed]",
      "text/plain": [
       "<Figure size 864x720 with 5 Axes>"
      ]
     },
     "metadata": {},
     "output_type": "display_data"
    }
   ],
   "source": [
    "import cv2 as cv\n",
    "import numpy as np\n",
    "import matplotlib.pyplot as plt\n",
    "import random, math, os\n",
    "\n",
    "RES = 64\n",
    "DATASET_SIZE = 4000\n",
    "TEST_RATE = 0.2\n",
    "\n",
    "# Create Dataset Folder:\n",
    "if not os.path.exists(\"dataset\"):\n",
    "    os.mkdir(\"dataset\")\n",
    "\n",
    "def generate_poligon(category, res = 64):\n",
    "    \n",
    "    # Random Radius and X,Y Position:\n",
    "    radi =  random.randrange(int(res/16), int(res/4))\n",
    "    posX =  random.randrange(int(radi), int(res-radi),1)\n",
    "    posY =  random.randrange(int(radi), int(res-radi),1)\n",
    "    pos = posX,  posY\n",
    "    rot =  random.randrange(360)\n",
    "\n",
    "    # Categoty 7 is a Circle:\n",
    "    if category == 7:\n",
    "        category = 360\n",
    "    \n",
    "    # creating geometry points:\n",
    "    points = []\n",
    "    for point in range(category):\n",
    "        dividendo = (360/category) * point + rot\n",
    "        points.append([math.cos(math.radians(dividendo))*radi+pos[0],\n",
    "                      math.sin(math.radians(dividendo))*radi+pos[1]])\n",
    "\n",
    "    img = np.zeros((res,res), np.uint8)\n",
    "    pts = np.array(points, np.int32)\n",
    "    \n",
    "    img = cv.fillPoly(img,[pts],(255))\n",
    "    return img\n",
    "\n",
    "def makeDataset(n=1000):\n",
    "    for cat in range(3,8):\n",
    "        for num in range(n):\n",
    "            img = generate_poligon(cat)\n",
    "            plt.imsave(f'dataset/cat_{cat}_{num}.png', img, cmap = \"gray\")\n",
    "            yield (img, cat)\n",
    "\n",
    "# Compute:\n",
    "dataset = makeDataset(DATASET_SIZE)\n",
    "test_dataset = \n",
    "\n",
    "print(\"Dataset created:\", DATASET_SIZE * 5, \"images\")\n",
    "\n",
    "# Plot images of each category in a multiplot:\n",
    "fig, axs = plt.subplots(nrows=1, ncols=5, figsize=(12, 10))\n",
    "for i, ax in enumerate(axs.flat):\n",
    "    img = generate_poligon(i+3)\n",
    "    ax.imshow(img, cmap='gray')\n",
    "    ax.set_xticks([])\n",
    "    ax.set_yticks([])\n",
    "    ax.set_title(f\"Category {i+3}\")\n",
    "plt.tight_layout()\n",
    "plt.show()\n"
   ]
  },
  {
   "attachments": {},
   "cell_type": "markdown",
   "metadata": {},
   "source": [
    "### CNN with Keras"
   ]
  },
  {
   "cell_type": "code",
   "execution_count": 29,
   "metadata": {},
   "outputs": [
    {
     "name": "stdout",
     "output_type": "stream",
     "text": [
      "Model: \"sequential_1\"\n",
      "_________________________________________________________________\n",
      " Layer (type)                Output Shape              Param #   \n",
      "=================================================================\n",
      " conv2d_4 (Conv2D)           (None, 255, 255, 16)      80        \n",
      "                                                                 \n",
      " max_pooling2d_3 (MaxPooling  (None, 63, 63, 16)       0         \n",
      " 2D)                                                             \n",
      "                                                                 \n",
      " conv2d_5 (Conv2D)           (None, 60, 60, 64)        16448     \n",
      "                                                                 \n",
      " max_pooling2d_4 (MaxPooling  (None, 15, 15, 64)       0         \n",
      " 2D)                                                             \n",
      "                                                                 \n",
      " conv2d_6 (Conv2D)           (None, 12, 12, 64)        65600     \n",
      "                                                                 \n",
      " max_pooling2d_5 (MaxPooling  (None, 3, 3, 64)         0         \n",
      " 2D)                                                             \n",
      "                                                                 \n",
      " conv2d_7 (Conv2D)           (None, 2, 2, 64)          16448     \n",
      "                                                                 \n",
      " flatten_1 (Flatten)         (None, 256)               0         \n",
      "                                                                 \n",
      " dense_1 (Dense)             (None, 64)                16448     \n",
      "                                                                 \n",
      " Final_Layer (Dense)         (None, 5)                 325       \n",
      "                                                                 \n",
      "=================================================================\n",
      "Total params: 115,349\n",
      "Trainable params: 115,349\n",
      "Non-trainable params: 0\n",
      "_________________________________________________________________\n"
     ]
    }
   ],
   "source": [
    "import tensorflow as tf\n",
    "import keras\n",
    "from keras.layers import MaxPooling2D, Flatten, Dense, Conv2D\n",
    "from unicodedata import name\n",
    "\n",
    "# Arquitecturta:\n",
    "\n",
    "model = keras.Sequential()\n",
    "model.add(Conv2D(16, (2, 2),activation='relu' , input_shape = (256,256,1)))\n",
    "model.add(MaxPooling2D((4, 4)))\n",
    "model.add(Conv2D(64, (4, 4),activation='relu'))\n",
    "model.add(MaxPooling2D((4, 4)))\n",
    "model.add(Conv2D(64, (4, 4),activation='relu'))\n",
    "model.add(MaxPooling2D((4, 4)))\n",
    "model.add(Conv2D(64, (2, 2),activation='relu'))\n",
    "\n",
    "model.add(Flatten())\n",
    "model.add(Dense(64, activation='relu'))\n",
    "model.add(Dense(5, activation='softmax', name = \"Final_Layer\"))\n",
    "\n",
    "# Compiler:\n",
    "model.compile(optimizer= keras.optimizers.Adam(learning_rate=0.01), # <- Lerning rate\n",
    "              loss=tf.keras.losses.SparseCategoricalCrossentropy(from_logits=True),\n",
    "              metrics=['accuracy'])\n",
    "\n",
    "# Save chakepoint\n",
    "checkpoint_path = \"cp_forms.ckpt\"\n",
    "checkpoint_dir = os.path.dirname(checkpoint_path)\n",
    "\n",
    "# Create a callback that saves the model's weights\n",
    "cp_callback = tf.keras.callbacks.ModelCheckpoint(filepath=checkpoint_path,\n",
    "                                                 save_weights_only=True,\n",
    "                                                 verbose=1)\n",
    "\n",
    "model.summary()"
   ]
  },
  {
   "attachments": {},
   "cell_type": "markdown",
   "metadata": {},
   "source": [
    "Training the model"
   ]
  },
  {
   "cell_type": "code",
   "execution_count": null,
   "metadata": {},
   "outputs": [],
   "source": [
    "\n",
    "random.shuffle(dataset)\n",
    "data = dict(dataset)\n",
    "\n",
    "arrays = []\n",
    "for file_name, value in data.items():\n",
    "    arrays.append(plt.imread(dataset_path + file_name)[:,:,0])\n",
    "\n",
    "data_x = np.stack(arrays, axis=0, out=None)\n",
    "data_y = np.array(list(data.values()))"
   ]
  },
  {
   "cell_type": "code",
   "execution_count": null,
   "metadata": {},
   "outputs": [],
   "source": [
    "model.fit(\n",
    "        x = train_x,\n",
    "        y = train_y,\n",
    "        batch_size = 10,\n",
    "        epochs = 10,\n",
    "        shuffle=True,\n",
    "        validation_data=(test_x, test_y),\n",
    "        callbacks=[cp_callback]\n",
    "         )"
   ]
  }
 ],
 "metadata": {
  "kernelspec": {
   "display_name": "base",
   "language": "python",
   "name": "python3"
  },
  "language_info": {
   "codemirror_mode": {
    "name": "ipython",
    "version": 3
   },
   "file_extension": ".py",
   "mimetype": "text/x-python",
   "name": "python",
   "nbconvert_exporter": "python",
   "pygments_lexer": "ipython3",
   "version": "3.9.12"
  },
  "orig_nbformat": 4
 },
 "nbformat": 4,
 "nbformat_minor": 2
}
